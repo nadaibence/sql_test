{
 "cells": [
  {
   "cell_type": "code",
   "execution_count": null,
   "id": "c01a23db",
   "metadata": {},
   "outputs": [],
   "source": [
    "!pip install opendatasets"
   ]
  },
  {
   "cell_type": "code",
   "execution_count": null,
   "id": "5f2e62e9",
   "metadata": {},
   "outputs": [],
   "source": [
    "import sqlalchemy\n",
    "import pandas as pd\n",
    "import opendatasets as od"
   ]
  },
  {
   "cell_type": "code",
   "execution_count": null,
   "id": "62613637",
   "metadata": {},
   "outputs": [],
   "source": [
    "engine = sqlalchemy.create_engine('sqlite:///sql_test.db')\n",
    "sqlite_connection = engine.connect()\n",
    "sqlite_table = 'movies'"
   ]
  },
  {
   "cell_type": "code",
   "execution_count": null,
   "id": "fda172a9",
   "metadata": {},
   "outputs": [],
   "source": [
    "def run_query(query, engine):\n",
    "    return pd.read_sql(query, con=engine, index_col=None)"
   ]
  },
  {
   "cell_type": "code",
   "execution_count": null,
   "id": "d5b69515",
   "metadata": {},
   "outputs": [],
   "source": [
    "od.download('https://www.kaggle.com/datasets/anotherbadcode/boxofficecollections')"
   ]
  },
  {
   "cell_type": "code",
   "execution_count": null,
   "id": "40e788c1",
   "metadata": {},
   "outputs": [],
   "source": [
    "df = pd.read_csv('./boxofficecollections/BoxOfficeCollections.csv')"
   ]
  },
  {
   "cell_type": "code",
   "execution_count": null,
   "id": "c1376e77",
   "metadata": {},
   "outputs": [],
   "source": [
    "df.columns = [x.lower().replace(' ', '') for x in df.columns.tolist()]"
   ]
  },
  {
   "cell_type": "code",
   "execution_count": null,
   "id": "34cd75cd",
   "metadata": {},
   "outputs": [],
   "source": [
    "df.to_sql(sqlite_table, sqlite_connection, if_exists='replace', index=False)"
   ]
  },
  {
   "cell_type": "markdown",
   "id": "1b789f32",
   "metadata": {},
   "source": [
    "# SQL Test"
   ]
  },
  {
   "cell_type": "markdown",
   "id": "14ec0af9",
   "metadata": {},
   "source": [
    "#### What is the name of the movie that has the highest IMDB rating in 2017 ?"
   ]
  },
  {
   "cell_type": "code",
   "execution_count": null,
   "id": "d4719531",
   "metadata": {},
   "outputs": [],
   "source": [
    "query = '''\n",
    "select\n",
    "    movie,\n",
    "    year,\n",
    "    max(imdbrating) as max_rating\n",
    "from movies\n",
    "where year = 2017\n",
    "'''\n",
    "run_query(query, engine)"
   ]
  },
  {
   "cell_type": "markdown",
   "id": "7628813e",
   "metadata": {},
   "source": [
    "#### How many comedy/action/sci-fi ... films are made each year ?"
   ]
  },
  {
   "cell_type": "code",
   "execution_count": null,
   "id": "5c52e634",
   "metadata": {
    "scrolled": true
   },
   "outputs": [],
   "source": [
    "query = '''\n",
    "select \n",
    "    year,\n",
    "    imdb_genre,\n",
    "    count(imdb_genre) as count_per_year\n",
    "from movies\n",
    "group by year, imdb_genre\n",
    "order by year\n",
    "\n",
    "'''\n",
    "run_query(query, engine)"
   ]
  },
  {
   "cell_type": "markdown",
   "id": "2edd62c5",
   "metadata": {},
   "source": [
    "#### Select those comedy movies made in 2020 that are rated higher than the average comedy movie (based on imdb rating)"
   ]
  },
  {
   "cell_type": "code",
   "execution_count": null,
   "id": "acf2f79b",
   "metadata": {},
   "outputs": [],
   "source": [
    "query = '''\n",
    "select\n",
    "    *\n",
    "from movies\n",
    "where\n",
    "    (imdb_genre = \"Comedy\" and year = 2020)\n",
    "and\n",
    "    (imdbrating > (select avg(imdbrating) from movies))\n",
    "\n",
    "'''\n",
    "run_query(query, engine)"
   ]
  },
  {
   "cell_type": "markdown",
   "id": "e4f4f303",
   "metadata": {},
   "source": [
    "#### List the best movies from every year in a chronological order (based on imdb rating)"
   ]
  },
  {
   "cell_type": "code",
   "execution_count": null,
   "id": "7b62e789",
   "metadata": {},
   "outputs": [],
   "source": [
    "query = '''\n",
    "select\n",
    "    movie,\n",
    "    year,\n",
    "    max(imdbrating) as max_rating\n",
    "from movies\n",
    "group by year\n",
    "order by year\n",
    "\n",
    "'''\n",
    "run_query(query, engine)"
   ]
  },
  {
   "cell_type": "markdown",
   "id": "db3a7dae",
   "metadata": {},
   "source": [
    "#### Which director has worked with the highest number of actors ?"
   ]
  },
  {
   "cell_type": "code",
   "execution_count": null,
   "id": "a7f04ad8",
   "metadata": {},
   "outputs": [],
   "source": [
    "query = '''\n",
    "select\n",
    "    director,\n",
    "    sum((select\n",
    "            (length(\"cast\") - length(replace(\"cast\", \",\" , \"\" )) + 1) as num_of_actors\n",
    "         from movies)) as actors_sum\n",
    "from movies\n",
    "group by director\n",
    "order by actors_sum desc\n",
    "limit 1\n",
    "\n",
    "'''\n",
    "run_query(query, engine)"
   ]
  }
 ],
 "metadata": {
  "kernelspec": {
   "display_name": "Python 3 (ipykernel)",
   "language": "python",
   "name": "python3"
  },
  "language_info": {
   "codemirror_mode": {
    "name": "ipython",
    "version": 3
   },
   "file_extension": ".py",
   "mimetype": "text/x-python",
   "name": "python",
   "nbconvert_exporter": "python",
   "pygments_lexer": "ipython3",
   "version": "3.8.10"
  }
 },
 "nbformat": 4,
 "nbformat_minor": 5
}
